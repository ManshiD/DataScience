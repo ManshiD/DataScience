{
 "cells": [
  {
   "metadata": {},
   "cell_type": "markdown",
   "source": "Functions",
   "id": "c85599087ed7692c"
  },
  {
   "metadata": {
    "ExecuteTime": {
     "end_time": "2025-10-17T11:38:02.094192Z",
     "start_time": "2025-10-17T11:38:02.086849Z"
    }
   },
   "cell_type": "code",
   "source": [
    "# Create user-defined functions\n",
    "def greet():\n",
    "    print(\"Hello World!\")"
   ],
   "id": "5ad7f1b21b037fb1",
   "outputs": [],
   "execution_count": 2
  },
  {
   "metadata": {
    "ExecuteTime": {
     "end_time": "2025-10-17T11:39:39.953938Z",
     "start_time": "2025-10-17T11:39:39.934878Z"
    }
   },
   "cell_type": "code",
   "source": [
    "# Function Calling\n",
    "def greet():\n",
    "    print(\"Hello World...!\")\n",
    "\n",
    "greet()"
   ],
   "id": "9cf1a700d7e6731e",
   "outputs": [
    {
     "name": "stdout",
     "output_type": "stream",
     "text": [
      "Hello World...!\n"
     ]
    }
   ],
   "execution_count": 3
  },
  {
   "metadata": {
    "ExecuteTime": {
     "end_time": "2025-10-17T11:43:15.258069Z",
     "start_time": "2025-10-17T11:43:15.246866Z"
    }
   },
   "cell_type": "code",
   "source": [
    "# Function with parameter\n",
    "def addition(n1,n2):\n",
    "     print(n1+n2)\n",
    "\n",
    "addition(12,23)"
   ],
   "id": "711869c117ceb9d0",
   "outputs": [
    {
     "name": "stdout",
     "output_type": "stream",
     "text": [
      "35\n"
     ]
    }
   ],
   "execution_count": 5
  },
  {
   "metadata": {
    "ExecuteTime": {
     "end_time": "2025-10-17T11:50:18.512419Z",
     "start_time": "2025-10-17T11:50:18.497432Z"
    }
   },
   "cell_type": "code",
   "source": [
    "# Call by value - immutable data types are called by value\n",
    "def increment(n):\n",
    "    n += 1\n",
    "    print('In functions: '+str(n))\n",
    "\n",
    "n=10\n",
    "print('Before function: '+str(n))\n",
    "increment(n)\n",
    "print('After function: '+str(n))"
   ],
   "id": "e65a0e22efbd5dce",
   "outputs": [
    {
     "name": "stdout",
     "output_type": "stream",
     "text": [
      "Before function: 10\n",
      "In functions: 11\n",
      "After function: 10\n"
     ]
    }
   ],
   "execution_count": 6
  },
  {
   "metadata": {
    "ExecuteTime": {
     "end_time": "2025-10-17T11:56:07.162465Z",
     "start_time": "2025-10-17T11:56:07.154516Z"
    }
   },
   "cell_type": "code",
   "source": [
    "# Call by reference - all mutable data type values are called by reference\n",
    "def do(lst):\n",
    "    lst.append(1234)\n",
    "    print('In functions: ',lst)\n",
    "lst = [1,2,3,4,5]\n",
    "print('Before function: ',lst)\n",
    "do(lst)\n",
    "print('After function: ',lst)"
   ],
   "id": "4575a388aa1e330d",
   "outputs": [
    {
     "name": "stdout",
     "output_type": "stream",
     "text": [
      "Before function:  [1, 2, 3, 4, 5]\n",
      "In functions:  [1, 2, 3, 4, 5, 1234]\n",
      "After function:  [1, 2, 3, 4, 5, 1234]\n"
     ]
    }
   ],
   "execution_count": 7
  },
  {
   "metadata": {
    "ExecuteTime": {
     "end_time": "2025-10-17T13:58:54.443874Z",
     "start_time": "2025-10-17T13:58:54.358855Z"
    }
   },
   "cell_type": "code",
   "source": [
    "# return statement\n",
    "def adds(n1, n2):\n",
    "    return n1+n2\n",
    "print(adds(10, 12))"
   ],
   "id": "ba0aea72b18dc85",
   "outputs": [
    {
     "name": "stdout",
     "output_type": "stream",
     "text": [
      "22\n"
     ]
    }
   ],
   "execution_count": 8
  },
  {
   "metadata": {},
   "cell_type": "markdown",
   "source": "Types of Function Arguments:",
   "id": "4f0ca7248c0b1b19"
  },
  {
   "metadata": {},
   "cell_type": "markdown",
   "source": "Default Arguments",
   "id": "b56a101093ef3bbb"
  },
  {
   "metadata": {
    "ExecuteTime": {
     "end_time": "2025-10-17T14:41:07.860523Z",
     "start_time": "2025-10-17T14:41:07.851522Z"
    }
   },
   "cell_type": "code",
   "source": [
    "def adds(n1, n2=50):\n",
    "    print(n1,'+',n2,'=',n1+n2)\n",
    "adds(10)\n",
    "adds(10,10)"
   ],
   "id": "7d3ed530aa0bd582",
   "outputs": [
    {
     "name": "stdout",
     "output_type": "stream",
     "text": [
      "10 + 50 = 60\n",
      "10 + 10 = 20\n"
     ]
    }
   ],
   "execution_count": 9
  }
 ],
 "metadata": {
  "kernelspec": {
   "name": "python3",
   "language": "python",
   "display_name": "Python 3 (ipykernel)"
  }
 },
 "nbformat": 4,
 "nbformat_minor": 5
}
