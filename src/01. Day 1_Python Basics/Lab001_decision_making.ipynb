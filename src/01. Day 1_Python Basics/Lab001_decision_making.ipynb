{
 "cells": [
  {
   "metadata": {},
   "cell_type": "raw",
   "source": [
    "\n",
    "\n"
   ],
   "id": "eeb5f12c26acfe84"
  },
  {
   "metadata": {},
   "cell_type": "markdown",
   "source": "if statement:",
   "id": "d64356562bf6f0a6"
  },
  {
   "metadata": {
    "ExecuteTime": {
     "end_time": "2025-10-17T09:17:00.087728Z",
     "start_time": "2025-10-17T09:17:00.070458Z"
    }
   },
   "cell_type": "code",
   "source": [
    "from unittest import case\n",
    "\n",
    "# if statement\n",
    "i = 10\n",
    "if i>5:\n",
    "    print('i is greater than 5..')"
   ],
   "id": "f0f158fbf688986",
   "outputs": [
    {
     "name": "stdout",
     "output_type": "stream",
     "text": [
      "i is greater than 5..\n"
     ]
    }
   ],
   "execution_count": 2
  },
  {
   "metadata": {},
   "cell_type": "markdown",
   "source": "eif-else statement:",
   "id": "ba6dddb1ffa0bb6"
  },
  {
   "metadata": {
    "ExecuteTime": {
     "end_time": "2025-10-17T09:28:29.758018Z",
     "start_time": "2025-10-17T09:28:29.748140Z"
    }
   },
   "cell_type": "code",
   "source": [
    "i = 1\n",
    "if i>5:\n",
    "    print('i is greater than 5..')\n",
    "else:\n",
    "    print('i is less than 5')"
   ],
   "id": "8bed887a84e6c08d",
   "outputs": [
    {
     "name": "stdout",
     "output_type": "stream",
     "text": [
      "i is less than 5\n"
     ]
    }
   ],
   "execution_count": 4
  },
  {
   "metadata": {},
   "cell_type": "markdown",
   "source": "if-elif-else statement:",
   "id": "9518cae851cdd255"
  },
  {
   "metadata": {
    "ExecuteTime": {
     "end_time": "2025-10-17T09:30:01.278496Z",
     "start_time": "2025-10-17T09:30:01.267043Z"
    }
   },
   "cell_type": "code",
   "source": [
    "i = 10\n",
    "if i==5:\n",
    "    print('i is equal 5..')\n",
    "elif i==10:\n",
    "    print('i is equal 10..')\n",
    "else:\n",
    "    print('i is other..')"
   ],
   "id": "c922b9b16d327ca8",
   "outputs": [
    {
     "name": "stdout",
     "output_type": "stream",
     "text": [
      "i is equal 10..\n"
     ]
    }
   ],
   "execution_count": 5
  },
  {
   "metadata": {},
   "cell_type": "markdown",
   "source": "Nested-if statements:",
   "id": "1e34407a509fffd4"
  },
  {
   "metadata": {
    "ExecuteTime": {
     "end_time": "2025-10-17T09:40:11.856041Z",
     "start_time": "2025-10-17T09:40:04.550150Z"
    }
   },
   "cell_type": "code",
   "source": [
    "# Program to determine students grade based on their marks.\n",
    "marks = int (input(\"Enter students marks: \"))\n",
    "if marks >= 90:\n",
    "    grade = 'A'\n",
    "    if marks >= 95:\n",
    "        distinction = True\n",
    "    else:\n",
    "        distinction = False\n",
    "elif marks >= 80:\n",
    "    grade = 'B'\n",
    "    distinction = False\n",
    "elif marks >= 70:\n",
    "    grade = 'C'\n",
    "    distinction = False\n",
    "elif marks >= 60:\n",
    "    grade = 'D'\n",
    "    distinction = False\n",
    "else:\n",
    "    grade = 'F'\n",
    "    distinction = False\n",
    "\n",
    "print(\"Grade:\", grade)\n",
    "\n",
    "if distinction:\n",
    "    print(\"Distinction achieved!\")"
   ],
   "id": "6e5db7bb3c2cb3e3",
   "outputs": [
    {
     "name": "stdout",
     "output_type": "stream",
     "text": [
      "Grade: A\n"
     ]
    }
   ],
   "execution_count": 8
  },
  {
   "metadata": {},
   "cell_type": "markdown",
   "source": "Short hand if statement:",
   "id": "e1228d4d9b7fab0c"
  },
  {
   "metadata": {
    "ExecuteTime": {
     "end_time": "2025-10-17T09:42:04.512012Z",
     "start_time": "2025-10-17T09:42:04.504310Z"
    }
   },
   "cell_type": "code",
   "source": [
    "# Short hand if statement\n",
    "\n",
    "i = 10\n",
    "if i<15: print('i less than 15..')"
   ],
   "id": "4034c400bf7e73c",
   "outputs": [
    {
     "name": "stdout",
     "output_type": "stream",
     "text": [
      "i less than 15..\n"
     ]
    }
   ],
   "execution_count": 9
  },
  {
   "metadata": {
    "ExecuteTime": {
     "end_time": "2025-10-17T09:51:43.525971Z",
     "start_time": "2025-10-17T09:51:43.516939Z"
    }
   },
   "cell_type": "code",
   "source": [
    "# Short hand if-else statement\n",
    "i = 10\n",
    "print(True) if i == 10 else print(False)"
   ],
   "id": "69f2ce14f6f00e80",
   "outputs": [
    {
     "name": "stdout",
     "output_type": "stream",
     "text": [
      "True\n"
     ]
    }
   ],
   "execution_count": 10
  },
  {
   "metadata": {
    "ExecuteTime": {
     "end_time": "2025-10-17T09:58:02.464446Z",
     "start_time": "2025-10-17T09:57:55.516747Z"
    }
   },
   "cell_type": "code",
   "source": [
    "# match case statement\n",
    "flag = int(input(\"Enter num: \"))\n",
    "\n",
    "match flag:\n",
    "    case 5:\n",
    "        print(\"Flag = 5\")\n",
    "    case 10:\n",
    "        print(\"Flag = 10\")\n",
    "    case 15:\n",
    "        print(\"Flag = 15\")\n",
    "    case 20:\n",
    "        print(\"Flag = 20\")\n",
    "    case _:\n",
    "        print(\"not matched\")\n",
    "\n"
   ],
   "id": "e0b363c3b109a843",
   "outputs": [
    {
     "name": "stdout",
     "output_type": "stream",
     "text": [
      "Flag = 5\n"
     ]
    }
   ],
   "execution_count": 11
  },
  {
   "metadata": {
    "ExecuteTime": {
     "end_time": "2025-10-17T10:03:15.652337Z",
     "start_time": "2025-10-17T10:03:15.640782Z"
    }
   },
   "cell_type": "code",
   "source": [
    "# Match case with OR statement\n",
    "role = ('Admin')\n",
    "match role:\n",
    "    case 'Emp'| 'User':\n",
    "        print(\"Not allowed access..\")\n",
    "    case 'Admin':\n",
    "        print(\"Allowed access to Admin..\")\n",
    "    case _:\n",
    "        print(\"No role..\")"
   ],
   "id": "7bd6cee6dbd98667",
   "outputs": [
    {
     "name": "stdout",
     "output_type": "stream",
     "text": [
      "Allowed access to Admin..\n"
     ]
    }
   ],
   "execution_count": 12
  },
  {
   "metadata": {
    "ExecuteTime": {
     "end_time": "2025-10-17T10:10:20.791106Z",
     "start_time": "2025-10-17T10:10:20.785056Z"
    }
   },
   "cell_type": "code",
   "source": [
    "# Use of if in match-case statement\n",
    "inp = 'Emp'\n",
    "roles = ['Admin', 'User']\n",
    "match inp:\n",
    "    case 'Emp' if inp in roles:\n",
    "        print(\"Access\")\n",
    "    case 'Admin' if inp in roles:\n",
    "        print(\"Access\")\n",
    "    case _:\n",
    "        print(\"No role..\")"
   ],
   "id": "224216202f02c426",
   "outputs": [
    {
     "name": "stdout",
     "output_type": "stream",
     "text": [
      "No role..\n"
     ]
    }
   ],
   "execution_count": 13
  },
  {
   "metadata": {
    "ExecuteTime": {
     "end_time": "2025-10-17T10:15:53.240922Z",
     "start_time": "2025-10-17T10:15:53.234860Z"
    }
   },
   "cell_type": "code",
   "source": [
    "# Match the sequence patern\n",
    "def matchSeq(lst):\n",
    "    match lst:\n",
    "        case ['a']:\n",
    "            print('Only 1 char : a')\n",
    "        case _:\n",
    "            print('No match')"
   ],
   "id": "c2eaab1f753858c9",
   "outputs": [],
   "execution_count": 14
  },
  {
   "metadata": {
    "ExecuteTime": {
     "end_time": "2025-10-17T10:20:34.883607Z",
     "start_time": "2025-10-17T10:20:34.873735Z"
    }
   },
   "cell_type": "code",
   "source": "matchSeq(['a'])",
   "id": "86a4c0dda82006c8",
   "outputs": [
    {
     "name": "stdout",
     "output_type": "stream",
     "text": [
      "Only 1 char : a\n"
     ]
    }
   ],
   "execution_count": 15
  }
 ],
 "metadata": {
  "kernelspec": {
   "name": "python3",
   "language": "python",
   "display_name": "Python 3 (ipykernel)"
  }
 },
 "nbformat": 4,
 "nbformat_minor": 5
}
